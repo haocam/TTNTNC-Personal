{
  "cells": [
    {
      "cell_type": "markdown",
      "id": "0cfa247f-bf3f-4910-90dc-ae8ecb607964",
      "metadata": {
        "id": "0cfa247f-bf3f-4910-90dc-ae8ecb607964"
      },
      "source": [
        "# Buổi 4: Tìm kiếm trong không gian trạng thái"
      ]
    },
    {
      "cell_type": "markdown",
      "id": "48ace7ff-b7d1-4cf2-94da-a21d2d821112",
      "metadata": {
        "id": "48ace7ff-b7d1-4cf2-94da-a21d2d821112"
      },
      "source": [
        "### Bài 1. Biễu diễn đồ thị\n",
        "\n",
        "Cho đồ thị hàm số **G** (**V**, **E**) như bên dưới:\n",
        "\n",
        "![image](dothi.png)"
      ]
    },
    {
      "cell_type": "markdown",
      "id": "51164f9d-5d98-4361-b2c2-1fb23fd3704c",
      "metadata": {
        "id": "51164f9d-5d98-4361-b2c2-1fb23fd3704c"
      },
      "source": [
        "#### 1. Biễu diễn bằng danh sách / ma trận kề"
      ]
    },
    {
      "cell_type": "code",
      "execution_count": 1,
      "id": "8715cbf5-d144-479d-9bb3-eb0be736fa12",
      "metadata": {
        "id": "8715cbf5-d144-479d-9bb3-eb0be736fa12"
      },
      "outputs": [],
      "source": [
        "\"\"\" CÁC BẠN LÀM BÀI Ở ĐÂY\n",
        "      Biễu diễn đồ thị bằng ma trận kề\n",
        "        A B C D E F G H I K\n",
        "      A 0 0 1 1 1 1 0 0 0 0\n",
        "      B 0 0 0 0 0 0 0 0 0 0\n",
        "      C 0 0 0 0 0 0 0 1 0 0\n",
        "      D 0 0 0 0 1 0 0 1 0 0\n",
        "      E 0 0 0 0 0 0 0 0 1 1\n",
        "      F 0 0 0 0 0 0 1 0 1 0\n",
        "      G 0 0 0 0 0 0 0 0 0 0\n",
        "      H 0 0 0 0 0 0 0 0 0 1\n",
        "      I 0 1 0 0 0 0 0 0 0 1\n",
        "      K 0 1 0 0 0 0 0 0 0 0\n",
        "\"\"\"\n",
        "ADJ = {'A': {'C', 'D', 'E', 'F'},\n",
        " 'B': {},\n",
        " 'C': {'H'},\n",
        " 'D': {'E', 'H'},\n",
        " 'E': {'I', 'K'},\n",
        " 'F': {'G', 'I'},\n",
        " 'G': {},\n",
        " 'H': {'K'},\n",
        " 'I': {'B', 'K'},\n",
        " 'K': {'B'}}\n",
        "# ..."
      ]
    },
    {
      "cell_type": "code",
      "execution_count": 2,
      "id": "44f952fc-0188-4215-823b-6efb1ba5622a",
      "metadata": {
        "id": "44f952fc-0188-4215-823b-6efb1ba5622a",
        "outputId": "9295e593-6996-4526-86b8-ba4804847b8f",
        "colab": {
          "base_uri": "https://localhost:8080/"
        }
      },
      "outputs": [
        {
          "output_type": "stream",
          "name": "stdout",
          "text": [
            "{'A': {'C', 'E', 'D', 'F'},\n",
            " 'B': {},\n",
            " 'C': {'H'},\n",
            " 'D': {'E', 'H'},\n",
            " 'E': {'I', 'K'},\n",
            " 'F': {'I', 'G'},\n",
            " 'G': {},\n",
            " 'H': {'K'},\n",
            " 'I': {'B', 'K'},\n",
            " 'K': {'B'}}\n"
          ]
        }
      ],
      "source": [
        "import pprint\n",
        "pprint.pprint(ADJ)"
      ]
    },
    {
      "cell_type": "markdown",
      "id": "c975f35c-f742-4ac2-be01-1fe53c94eadf",
      "metadata": {
        "id": "c975f35c-f742-4ac2-be01-1fe53c94eadf"
      },
      "source": [
        "#### 2. Thao tác duyệt đồ thị\n",
        "(a) Liệt kê các đỉnh trong đồ thị <br/>\n",
        "(b) Liệt kê tất cả các cạnh đồ thị hiển thị dạng danh sách kề <br/>\n",
        "(c) Cho hai đỉnh A, B. Hỏi hai đỉnh A, B có kề nhau không? <br/>\n",
        "(d) Cho một đỉnh A. Hỏi danh sách các đỉnh kề với A <br/>"
      ]
    },
    {
      "cell_type": "code",
      "execution_count": 3,
      "id": "d286c1a6-ef93-4581-9f7e-96ea10020985",
      "metadata": {
        "id": "d286c1a6-ef93-4581-9f7e-96ea10020985",
        "outputId": "4df6103d-d5db-4d24-e789-5d740871cc58",
        "colab": {
          "base_uri": "https://localhost:8080/"
        }
      },
      "outputs": [
        {
          "output_type": "stream",
          "name": "stdout",
          "text": [
            "2. Thao tác duyệt đồ thị\n"
          ]
        }
      ],
      "source": [
        "print(\"2. Thao tác duyệt đồ thị\")"
      ]
    },
    {
      "cell_type": "code",
      "execution_count": 4,
      "id": "5faa6543-247a-4903-ba2a-9c1595af4f41",
      "metadata": {
        "id": "5faa6543-247a-4903-ba2a-9c1595af4f41",
        "outputId": "430a998d-9cd6-4b3e-b1e1-c3846989e236",
        "colab": {
          "base_uri": "https://localhost:8080/"
        }
      },
      "outputs": [
        {
          "output_type": "stream",
          "name": "stdout",
          "text": [
            "(a) Liệt kê các đỉnh trong đồ thị\n",
            "Các đỉnh của đồ thị:  Các đỉnh của đồ thị:  ['A', 'B', 'C', 'D', 'E', 'F', 'G', 'H', 'I', 'K']\n"
          ]
        }
      ],
      "source": [
        "print(\"(a) Liệt kê các đỉnh trong đồ thị\")\n",
        "print(\"Các đỉnh của đồ thị: \", end = \" \")\n",
        "\"\"\" CÁC BẠN LÀM BÀI Ở ĐÂY \"\"\"\n",
        "print(\"Các đỉnh của đồ thị: \", list(ADJ.keys()))\n",
        "# ..."
      ]
    },
    {
      "cell_type": "code",
      "execution_count": 5,
      "id": "3df2151a-a327-4672-a7af-519084f4b044",
      "metadata": {
        "id": "3df2151a-a327-4672-a7af-519084f4b044",
        "outputId": "c1671fab-22e2-4f3e-a788-9571e198303a",
        "colab": {
          "base_uri": "https://localhost:8080/"
        }
      },
      "outputs": [
        {
          "output_type": "stream",
          "name": "stdout",
          "text": [
            "(b) Liệt kê tất cả các cạnh đồ thị hiển thị dạng danh sách kề\n",
            "Danh sách kề của đồ thị: \n",
            "'A': ['C', 'E', 'D', 'F']\n",
            "'B': []\n",
            "'C': ['H']\n",
            "'D': ['E', 'H']\n",
            "'E': ['I', 'K']\n",
            "'F': ['I', 'G']\n",
            "'G': []\n",
            "'H': ['K']\n",
            "'I': ['B', 'K']\n",
            "'K': ['B']\n"
          ]
        }
      ],
      "source": [
        "print(\"(b) Liệt kê tất cả các cạnh đồ thị hiển thị dạng danh sách kề\")\n",
        "print(\"Danh sách kề của đồ thị: \")\n",
        "\n",
        "def HienThiDoThi(G):\n",
        "    \"\"\" CÁC BẠN LÀM BÀI Ở ĐÂY \"\"\"\n",
        "    # ...\n",
        "    for u in G:\n",
        "      print(f\"'{u}': {list(G[u])}\")\n",
        "    # pass\n",
        "\n",
        "HienThiDoThi(ADJ)"
      ]
    },
    {
      "cell_type": "code",
      "execution_count": 6,
      "id": "4077c30a-c7be-4a44-93de-9ed446a6a368",
      "metadata": {
        "id": "4077c30a-c7be-4a44-93de-9ed446a6a368",
        "outputId": "ecbf4d6c-564e-46f7-889d-70fafa0fc42b",
        "colab": {
          "base_uri": "https://localhost:8080/"
        }
      },
      "outputs": [
        {
          "output_type": "stream",
          "name": "stdout",
          "text": [
            "(c) Cho hai đỉnh A, B. Hỏi hai đỉnh A, B có kề nhau không?\n"
          ]
        }
      ],
      "source": [
        "from ast import Or\n",
        "print(\"(c) Cho hai đỉnh A, B. Hỏi hai đỉnh A, B có kề nhau không?\")\n",
        "\n",
        "def LaKe(G, a, b):\n",
        "    \"\"\"\n",
        "    input: G, a, b\n",
        "    return:\n",
        "    + -1: dinh a, hay b khong ton tai\n",
        "    +  0: dinh a, b ton tai va a khong ke b\n",
        "    +  1: dinh a, b ton tai va a, b ke nhau\n",
        "    \"\"\"\n",
        "    result = None\n",
        "    \"\"\" CÁC BẠN LÀM BÀI Ở ĐÂY \"\"\"\n",
        "    if a not in G or b not in G:\n",
        "      result = -1\n",
        "    elif b in G[a]:\n",
        "      result = 1\n",
        "    else: result = 0\n",
        "    # ...\n",
        "\n",
        "    return result"
      ]
    },
    {
      "cell_type": "code",
      "execution_count": 7,
      "id": "0e90a761-8354-460a-a451-1cbb97b9b6b8",
      "metadata": {
        "id": "0e90a761-8354-460a-a451-1cbb97b9b6b8",
        "outputId": "a4aa2e6a-3ff5-4439-afe0-bc81f746cc0d",
        "colab": {
          "base_uri": "https://localhost:8080/"
        }
      },
      "outputs": [
        {
          "output_type": "stream",
          "name": "stdout",
          "text": [
            "L ke R: -1\n",
            "A ke R: -1\n",
            "E ke D: 0\n",
            "D ke E: 1\n"
          ]
        }
      ],
      "source": [
        "a = \"L\"; b = \"R\"; print(f\"{a} ke {b}: {LaKe(ADJ, a, b)}\")\n",
        "a = \"A\"; b = \"R\"; print(f\"{a} ke {b}: {LaKe(ADJ, a, b)}\")\n",
        "a = \"E\"; b = \"D\"; print(f\"{a} ke {b}: {LaKe(ADJ, a, b)}\")\n",
        "a = \"D\"; b = \"E\"; print(f\"{a} ke {b}: {LaKe(ADJ, a, b)}\")"
      ]
    },
    {
      "cell_type": "code",
      "execution_count": 8,
      "id": "41048b4b-9311-470f-9c0f-2bcb5b062587",
      "metadata": {
        "id": "41048b4b-9311-470f-9c0f-2bcb5b062587",
        "outputId": "afa174a6-da84-4081-98e7-e06090bbe47b",
        "colab": {
          "base_uri": "https://localhost:8080/"
        }
      },
      "outputs": [
        {
          "output_type": "stream",
          "name": "stdout",
          "text": [
            "(d) Cho một đỉnh A. Hỏi danh sách các đỉnh kề với A\n",
            "Danh sach ke voi dinh P: None\n",
            "Danh sach ke voi dinh A: ['C', 'E', 'D', 'F']\n",
            "Danh sach ke voi dinh B: []\n",
            "Danh sach ke voi dinh D: ['E', 'H']\n"
          ]
        }
      ],
      "source": [
        "print(\"(d) Cho một đỉnh A. Hỏi danh sách các đỉnh kề với A\")\n",
        "\n",
        "def LayKe(G, a):\n",
        "    \"\"\"\n",
        "    input: G, a\n",
        "    return:\n",
        "    + None: neu a khong ton tai\n",
        "    + []  : a khong ke voi bat ky dinh nao\n",
        "    + [x, y, ...]: mang cac dinh ke voi a\n",
        "    \"\"\"\n",
        "    result = None\n",
        "\n",
        "    \"\"\" CÁC BẠN LÀM BÀI Ở ĐÂY \"\"\"\n",
        "    if a in G:\n",
        "      result = list(G[a])\n",
        "    # ...\n",
        "\n",
        "    return result\n",
        "\n",
        "a = \"P\"; print(f\"Danh sach ke voi dinh {a}: {LayKe(ADJ, a)}\")\n",
        "a = \"A\"; print(f\"Danh sach ke voi dinh {a}: {LayKe(ADJ, a)}\")\n",
        "a = \"B\"; print(f\"Danh sach ke voi dinh {a}: {LayKe(ADJ, a)}\")\n",
        "a = \"D\"; print(f\"Danh sach ke voi dinh {a}: {LayKe(ADJ, a)}\")\n"
      ]
    },
    {
      "cell_type": "markdown",
      "id": "465a8fdb-f10f-47a9-91ab-1b23598fda4f",
      "metadata": {
        "id": "465a8fdb-f10f-47a9-91ab-1b23598fda4f"
      },
      "source": [
        "#### 3. Đọc và lưu đồ thị\n",
        "**dske.txt**\n",
        "```\n",
        "10           # số đỉnh đồ thị\n",
        "A C E F D    # đỉnh A kề với C E F D\n",
        "B            # đỉnh B không kề với ai\n",
        "C H\n",
        "D E H\n",
        "E K I\n",
        "F I G\n",
        "G\n",
        "H K\n",
        "I K B\n",
        "K B\n",
        "```"
      ]
    },
    {
      "cell_type": "code",
      "execution_count": 9,
      "id": "a71b385f-d571-4d94-88f1-427527c23653",
      "metadata": {
        "id": "a71b385f-d571-4d94-88f1-427527c23653",
        "outputId": "bb820234-b1a7-42c6-9064-d7a94b4329e3",
        "colab": {
          "base_uri": "https://localhost:8080/"
        }
      },
      "outputs": [
        {
          "output_type": "stream",
          "name": "stdout",
          "text": [
            "1. Lưu đồ thị xuống tập tin\n",
            "Luu do thi thanh cong xuong tap tin: dske1.txt\n",
            "10\n",
            "A C D E F\n",
            "B \n",
            "C H\n",
            "D E H\n",
            "E I K\n",
            "F G I\n",
            "G \n",
            "H K\n",
            "I B K\n",
            "K B\n"
          ]
        }
      ],
      "source": [
        "print(\"1. Lưu đồ thị xuống tập tin\")\n",
        "\n",
        "def LuuDoThi(G, file_path, verbose = True):\n",
        "    import os\n",
        "\n",
        "    \"\"\" CÁC BẠN LÀM BÀI Ở ĐÂY \"\"\"\n",
        "\n",
        "    # Tạo thư mục chứa file_path\n",
        "    file_dir = os.path.dirname(file_path)\n",
        "    if file_dir != \"\" and os.path.exists(file_path) == False:\n",
        "        os.makedirs(file_dir)\n",
        "        if verbose: print(f\"+ Tao thu muc: {file_dir}\")\n",
        "\n",
        "    # Lưu đồ thị\n",
        "    with open(file_path, \"wt\") as file:\n",
        "        \"\"\" CÁC BẠN LÀM BÀI Ở ĐÂY \"\"\"\n",
        "        file.write(f\"{len(G)}\\n\")\n",
        "        for u in G:\n",
        "          file.write(f\"{u} {' '.join(sorted(G[u]))}\\n\") #sorted(G[u]) để ghi vào file đúng thứ tự\n",
        "        if verbose: print(f\"Luu do thi thanh cong xuong tap tin: {file_path}\")\n",
        "        # ...\n",
        "    pass\n",
        "\n",
        "LuuDoThi(ADJ, \"dske1.txt\", verbose = True)\n",
        "with open(\"dske1.txt\", \"rt\") as file:\n",
        "    lines = file.readlines()\n",
        "    for line in lines: print(line, end=\"\")"
      ]
    },
    {
      "cell_type": "code",
      "execution_count": 10,
      "id": "b30921dc-fb94-44a5-907f-0d66340757a0",
      "metadata": {
        "id": "b30921dc-fb94-44a5-907f-0d66340757a0",
        "outputId": "00f08e23-dccd-4b99-e347-8bac871de363",
        "colab": {
          "base_uri": "https://localhost:8080/"
        }
      },
      "outputs": [
        {
          "output_type": "stream",
          "name": "stdout",
          "text": [
            "2. Đọc đồ thị từ tập tin\n",
            "{'A': {'C', 'E', 'D', 'F'},\n",
            " 'B': set(),\n",
            " 'C': {'H'},\n",
            " 'D': {'E', 'H'},\n",
            " 'E': {'I', 'K'},\n",
            " 'F': {'I', 'G'},\n",
            " 'G': set(),\n",
            " 'H': {'K'},\n",
            " 'I': {'B', 'K'},\n",
            " 'K': {'B'}}\n"
          ]
        }
      ],
      "source": [
        "print(\"2. Đọc đồ thị từ tập tin\")\n",
        "import pprint\n",
        "\n",
        "def DocDoThi(file_path, verbose = True):\n",
        "    \"\"\"\n",
        "    return:\n",
        "    + None: doc that bai\n",
        "    + <>None: tra ve do thi\n",
        "    \"\"\"\n",
        "    import os\n",
        "\n",
        "    result = None\n",
        "    if os.path.exists(file_path) == False:\n",
        "        result = None\n",
        "    else:\n",
        "        G = {}\n",
        "        with open(file_path, \"rt\") as file:\n",
        "            n = int(file.readline())\n",
        "            \"\"\" CÁC BẠN LÀM BÀI Ở ĐÂY \"\"\"\n",
        "            for _ in range(n):\n",
        "              line = file.readline().split()\n",
        "              u = line[0]\n",
        "              v = line[1:]\n",
        "              G[u] = set(v)\n",
        "            # ...\n",
        "            pass\n",
        "        result = G\n",
        "    return result\n",
        "\n",
        "G1 = DocDoThi(\"dske1.txt\", verbose = True)\n",
        "pprint.pprint(G1)"
      ]
    },
    {
      "cell_type": "markdown",
      "id": "8197f40f-69af-489d-80b5-124c91427db6",
      "metadata": {
        "id": "8197f40f-69af-489d-80b5-124c91427db6"
      },
      "source": [
        "### Bài 2. Tìm kiếm đường đi trên đồ thị"
      ]
    },
    {
      "cell_type": "markdown",
      "id": "43f12303-9ee9-4404-9ecb-f00a5f78e4ee",
      "metadata": {
        "id": "43f12303-9ee9-4404-9ecb-f00a5f78e4ee"
      },
      "source": [
        "#### 1. Tìm kiếm theo chiều rộng (BFS)"
      ]
    },
    {
      "cell_type": "code",
      "execution_count": 11,
      "id": "1910f300-4094-4d69-b009-a9d4ea0fb27b",
      "metadata": {
        "id": "1910f300-4094-4d69-b009-a9d4ea0fb27b"
      },
      "outputs": [],
      "source": [
        "import pprint\n",
        "\n",
        "def BFS(G, start, goal):\n",
        "    \"\"\"\n",
        "    return:\n",
        "    + mang chua duong di tu a --> b, neu rong la ko co duong di\n",
        "    + None: dinh a, b khong hop le\n",
        "    \"\"\"\n",
        "    result = None\n",
        "\n",
        "    if G.get(start) is None or G.get(goal) is None:\n",
        "        result = None\n",
        "    else:\n",
        "        path = {}     # path[a]=b nghia la muon di toi dinh b phai qua a\n",
        "        s_open   = []\n",
        "        s_closed = []\n",
        "\n",
        "        # đưa start vào open\n",
        "        s_open.append(start)\n",
        "        path[start] = None\n",
        "        while len(s_open)>0:\n",
        "            \"\"\" CÁC BẠN LÀM BÀI Ở ĐÂY \"\"\"\n",
        "            v = s_open.pop(0)\n",
        "            s_closed.append(v)\n",
        "            if v == goal:\n",
        "              break\n",
        "            for u in G[v]:\n",
        "                if u not in path:\n",
        "                    path[u] = v\n",
        "                    s_open.append(u)\n",
        "            # ...\n",
        "\n",
        "            # pass\n",
        "\n",
        "    return path"
      ]
    },
    {
      "cell_type": "code",
      "execution_count": 12,
      "id": "ed7e6ed1-ae75-4183-8cb2-0e4eae606144",
      "metadata": {
        "id": "ed7e6ed1-ae75-4183-8cb2-0e4eae606144",
        "outputId": "59e22dec-f2ae-4ed2-8b75-b9f892cb69ee",
        "colab": {
          "base_uri": "https://localhost:8080/"
        }
      },
      "outputs": [
        {
          "output_type": "stream",
          "name": "stdout",
          "text": [
            "{'A': None,\n",
            " 'B': 'I',\n",
            " 'C': 'A',\n",
            " 'D': 'A',\n",
            " 'E': 'A',\n",
            " 'F': 'A',\n",
            " 'G': 'F',\n",
            " 'H': 'C',\n",
            " 'I': 'E',\n",
            " 'K': 'E'}\n"
          ]
        }
      ],
      "source": [
        "path = BFS(ADJ, \"A\", \"B\")\n",
        "pprint.pprint(path)\n",
        "\n",
        "# {'A': None,\n",
        "#  'B': 'K',\n",
        "#  'C': 'A',\n",
        "#  'D': 'A',\n",
        "#  'E': 'A',\n",
        "#  'F': 'A',\n",
        "#  'G': 'F',\n",
        "#  'H': 'C',\n",
        "#  'I': 'E',\n",
        "#  'K': 'E'}"
      ]
    },
    {
      "cell_type": "code",
      "execution_count": 13,
      "id": "cd05574f-d2fa-4f71-80b2-1f9c5b45f945",
      "metadata": {
        "id": "cd05574f-d2fa-4f71-80b2-1f9c5b45f945"
      },
      "outputs": [],
      "source": [
        "def find_path(path, start, goal):\n",
        "    \"\"\"\n",
        "    Cho mang truy hoi duong, tim ds dinh tu start --> goal\n",
        "    \"\"\"\n",
        "    result = []\n",
        "\n",
        "    \"\"\" CÁC BẠN LÀM BÀI Ở ĐÂY \"\"\"\n",
        "    u = goal\n",
        "    while u is not None:\n",
        "      result.append(u)\n",
        "      u = path[u]\n",
        "    result.reverse()\n",
        "    # ...\n",
        "\n",
        "    return result\n",
        "    pass"
      ]
    },
    {
      "cell_type": "code",
      "execution_count": 14,
      "id": "50a093aa-283b-4623-9428-a0631e37328b",
      "metadata": {
        "id": "50a093aa-283b-4623-9428-a0631e37328b",
        "outputId": "bf4e3607-a24b-482f-82a2-13459a54baaf",
        "colab": {
          "base_uri": "https://localhost:8080/"
        }
      },
      "outputs": [
        {
          "output_type": "execute_result",
          "data": {
            "text/plain": [
              "['A', 'E', 'I', 'B']"
            ]
          },
          "metadata": {},
          "execution_count": 14
        }
      ],
      "source": [
        "find_path(path, 'A', 'B')\n",
        "# ['A', 'E', 'K', 'B']"
      ]
    },
    {
      "cell_type": "markdown",
      "id": "16085819-733d-4f95-a32d-aa52c5e35a6e",
      "metadata": {
        "id": "16085819-733d-4f95-a32d-aa52c5e35a6e"
      },
      "source": [
        "#### 2. Tìm kiếm theo chiều rộng (DFS)"
      ]
    },
    {
      "cell_type": "code",
      "execution_count": 15,
      "id": "50ebc7cd-f093-4d06-852c-e6c903e27864",
      "metadata": {
        "id": "50ebc7cd-f093-4d06-852c-e6c903e27864"
      },
      "outputs": [],
      "source": [
        "import pprint\n",
        "\n",
        "def DFS(G, start, goal):\n",
        "    \"\"\"\n",
        "    return:\n",
        "    + mang chua duong di tu a --> b, neu rong la ko co duong di\n",
        "    + None: dinh a, b khong hop le\n",
        "    \"\"\"\n",
        "    result = None\n",
        "\n",
        "    if G.get(start) is None or G.get(goal) is None:\n",
        "        result = None\n",
        "    else:\n",
        "        path = {}     # path[a]=b nghia la muon di toi dinh b phai qua a\n",
        "        s_open   = []\n",
        "        s_closed = []\n",
        "\n",
        "        # đưa start vào open\n",
        "        s_open.append(start)\n",
        "        path[start] = None\n",
        "        while len(s_open)>0:\n",
        "            \"\"\" CÁC BẠN LÀM BÀI Ở ĐÂY \"\"\"\n",
        "            v = s_open.pop()\n",
        "            s_closed.append(v)\n",
        "            if v == goal:\n",
        "              break\n",
        "            for u in sorted(G[v]):\n",
        "                if u not in path:\n",
        "                    path[u] = v\n",
        "                    s_open.append(u)\n",
        "            # ...\n",
        "\n",
        "            # pass\n",
        "\n",
        "    return path"
      ]
    },
    {
      "cell_type": "code",
      "execution_count": 16,
      "id": "8177518a-8ffc-4a29-be9c-90375367793a",
      "metadata": {
        "id": "8177518a-8ffc-4a29-be9c-90375367793a",
        "outputId": "ee7bc55c-967b-4598-df24-c1ebc0556a89",
        "colab": {
          "base_uri": "https://localhost:8080/"
        }
      },
      "outputs": [
        {
          "output_type": "stream",
          "name": "stdout",
          "text": [
            "{'A': None,\n",
            " 'B': 'I',\n",
            " 'C': 'A',\n",
            " 'D': 'A',\n",
            " 'E': 'A',\n",
            " 'F': 'A',\n",
            " 'G': 'F',\n",
            " 'I': 'F',\n",
            " 'K': 'I'}\n"
          ]
        }
      ],
      "source": [
        "path = DFS(ADJ, \"A\", \"B\")\n",
        "pprint.pprint(path)\n",
        "\n",
        "# {'A': None,\n",
        "#  'B': 'I',\n",
        "#  'C': 'A',\n",
        "#  'D': 'A',\n",
        "#  'E': 'A',\n",
        "#  'F': 'A',\n",
        "#  'G': 'F',\n",
        "#  'H': 'D',\n",
        "#  'I': 'F',\n",
        "#  'K': 'I'}"
      ]
    },
    {
      "cell_type": "markdown",
      "id": "d037e84a-1f8c-4388-89f6-9b1e105140da",
      "metadata": {
        "id": "d037e84a-1f8c-4388-89f6-9b1e105140da"
      },
      "source": [
        "# Kết thúc"
      ]
    },
    {
      "cell_type": "code",
      "source": [
        "find_path(path, 'A', 'B')"
      ],
      "metadata": {
        "colab": {
          "base_uri": "https://localhost:8080/"
        },
        "id": "wLNV0crT6CO5",
        "outputId": "9c5bce9e-b43f-4af1-9a9f-f889c4f06f53"
      },
      "id": "wLNV0crT6CO5",
      "execution_count": 17,
      "outputs": [
        {
          "output_type": "execute_result",
          "data": {
            "text/plain": [
              "['A', 'F', 'I', 'B']"
            ]
          },
          "metadata": {},
          "execution_count": 17
        }
      ]
    }
  ],
  "metadata": {
    "kernelspec": {
      "display_name": "Python 3",
      "language": "python",
      "name": "python3"
    },
    "language_info": {
      "codemirror_mode": {
        "name": "ipython",
        "version": 3
      },
      "file_extension": ".py",
      "mimetype": "text/x-python",
      "name": "python",
      "nbconvert_exporter": "python",
      "pygments_lexer": "ipython3",
      "version": "3.8.8"
    },
    "colab": {
      "provenance": []
    }
  },
  "nbformat": 4,
  "nbformat_minor": 5
}